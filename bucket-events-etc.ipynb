{
 "cells": [
  {
   "cell_type": "code",
   "execution_count": null,
   "id": "d5ab0412",
   "metadata": {},
   "outputs": [],
   "source": [
    "import boto3\n",
    "import random"
   ]
  },
  {
   "cell_type": "code",
   "execution_count": null,
   "id": "75d318a8",
   "metadata": {},
   "outputs": [],
   "source": [
    "s3 = boto3.resource('s3')"
   ]
  },
  {
   "cell_type": "code",
   "execution_count": null,
   "id": "3bfa0b8d",
   "metadata": {},
   "outputs": [],
   "source": [
    "contents = \"\"\"\n",
    "{\"type\":\"e1\", \"data\":\"e1 data\"}\n",
    "{\"type\":\"e2\", \"data\":\"e2 data\"}\n",
    "{\"type\":\"e3\", \"data\":\"e3 data\"}\n",
    "\"\"\""
   ]
  },
  {
   "cell_type": "code",
   "execution_count": null,
   "id": "79df3d3b",
   "metadata": {},
   "outputs": [],
   "source": [
    "contents"
   ]
  },
  {
   "cell_type": "code",
   "execution_count": null,
   "id": "e36a3ac4",
   "metadata": {},
   "outputs": [],
   "source": [
    "key = 'k-' + str(random.randint(1, 9999999))\n",
    "print(key)"
   ]
  },
  {
   "cell_type": "code",
   "execution_count": null,
   "id": "74d310a9",
   "metadata": {},
   "outputs": [],
   "source": [
    "s3.Object('be97068west', key).put(Body=contents)"
   ]
  },
  {
   "cell_type": "code",
   "execution_count": null,
   "id": "7be5120d",
   "metadata": {},
   "outputs": [],
   "source": [
    "s3client = boto3.client('s3')"
   ]
  },
  {
   "cell_type": "code",
   "execution_count": null,
   "id": "a21e7ff5",
   "metadata": {},
   "outputs": [],
   "source": [
    "s3client.put_bucket_versioning(\n",
    "    Bucket='be97068',\n",
    "    VersioningConfiguration={\n",
    "        'MFADelete': 'Disabled',\n",
    "        'Status': 'Enabled'\n",
    "    }\n",
    ")"
   ]
  },
  {
   "cell_type": "markdown",
   "id": "0f11c195",
   "metadata": {},
   "source": [
    "### West 2"
   ]
  },
  {
   "cell_type": "code",
   "execution_count": null,
   "id": "7b7f9fbd",
   "metadata": {},
   "outputs": [],
   "source": [
    "import boto3\n",
    "from botocore.config import Config"
   ]
  },
  {
   "cell_type": "code",
   "execution_count": null,
   "id": "fec1958e",
   "metadata": {},
   "outputs": [],
   "source": []
  },
  {
   "cell_type": "code",
   "execution_count": null,
   "id": "9f565f86",
   "metadata": {},
   "outputs": [],
   "source": [
    "s3west = boto3.client('s3')"
   ]
  },
  {
   "cell_type": "code",
   "execution_count": null,
   "id": "dfc57068",
   "metadata": {},
   "outputs": [],
   "source": [
    "s3west.create_bucket(\n",
    "    Bucket='be97068west',\n",
    "    CreateBucketConfiguration={\n",
    "        'LocationConstraint':'us-west-2'\n",
    "    }\n",
    ")"
   ]
  },
  {
   "cell_type": "code",
   "execution_count": null,
   "id": "8c1b6ad7",
   "metadata": {},
   "outputs": [],
   "source": [
    "s3client.put_bucket_versioning(\n",
    "    Bucket='be97068west',\n",
    "    VersioningConfiguration={\n",
    "        'MFADelete': 'Disabled',\n",
    "        'Status': 'Enabled'\n",
    "    }\n",
    ")"
   ]
  },
  {
   "cell_type": "code",
   "execution_count": null,
   "id": "a62f0d0d",
   "metadata": {},
   "outputs": [],
   "source": [
    "assume_role_policy_document=\"\"\"{\n",
    "   \"Version\":\"2012-10-17\",\n",
    "   \"Statement\":[\n",
    "      {\n",
    "         \"Effect\":\"Allow\",\n",
    "         \"Principal\":{\n",
    "            \"Service\":\"s3.amazonaws.com\"\n",
    "         },\n",
    "         \"Action\":\"sts:AssumeRole\"\n",
    "      }\n",
    "   ]\n",
    "}\"\"\""
   ]
  },
  {
   "cell_type": "code",
   "execution_count": null,
   "id": "9b3ff962",
   "metadata": {},
   "outputs": [],
   "source": [
    "iam = boto3.client('iam')\n",
    "cr = iam.create_role(\n",
    "    RoleName='repl-sample-role',\n",
    "    AssumeRolePolicyDocument=assume_role_policy_document\n",
    ")\n",
    "\n",
    "print(cr)"
   ]
  },
  {
   "cell_type": "code",
   "execution_count": null,
   "id": "aa167f65",
   "metadata": {},
   "outputs": [],
   "source": [
    "repl_policy_document=\"\"\"{\n",
    "   \"Version\":\"2012-10-17\",\n",
    "   \"Statement\":[\n",
    "      {\n",
    "         \"Effect\":\"Allow\",\n",
    "         \"Action\":[\n",
    "            \"s3:GetObjectVersionForReplication\",\n",
    "            \"s3:GetObjectVersionAcl\",\n",
    "            \"s3:GetObjectVersionTagging\"\n",
    "         ],\n",
    "         \"Resource\":[\n",
    "            \"arn:aws:s3:::be97068west/*\"\n",
    "         ]\n",
    "      },\n",
    "      {\n",
    "         \"Effect\":\"Allow\",\n",
    "         \"Action\":[\n",
    "            \"s3:ListBucket\",\n",
    "            \"s3:GetReplicationConfiguration\"\n",
    "         ],\n",
    "         \"Resource\":[\n",
    "            \"arn:aws:s3:::be97068west\"\n",
    "         ]\n",
    "      },\n",
    "      {\n",
    "         \"Effect\":\"Allow\",\n",
    "         \"Action\":[\n",
    "            \"s3:ReplicateObject\",\n",
    "            \"s3:ReplicateDelete\",\n",
    "            \"s3:ReplicateTags\"\n",
    "         ],\n",
    "         \"Resource\":\"arn:aws:s3:::be97068/*\"\n",
    "      }\n",
    "   ]\n",
    "}\"\"\""
   ]
  },
  {
   "cell_type": "code",
   "execution_count": null,
   "id": "6b020658",
   "metadata": {},
   "outputs": [],
   "source": [
    "cp = iam.create_policy(\n",
    "    PolicyName='repl-sample-policy',\n",
    "    PolicyDocument=repl_policy_document\n",
    ")\n",
    "\n",
    "print(cp)"
   ]
  },
  {
   "cell_type": "code",
   "execution_count": null,
   "id": "02b1e824",
   "metadata": {},
   "outputs": [],
   "source": [
    "import os\n",
    "account_no = os.environ['PRODUCER_ACCOUNT_NO']"
   ]
  },
  {
   "cell_type": "code",
   "execution_count": null,
   "id": "944184d4",
   "metadata": {},
   "outputs": [],
   "source": [
    "ap = iam.attach_role_policy(\n",
    "    RoleName='repl-sample-role',\n",
    "    PolicyArn=\"arn:aws:iam::{}:policy/repl-sample-policy\".format(account_no)\n",
    ")\n",
    "print(ap)"
   ]
  },
  {
   "cell_type": "code",
   "execution_count": null,
   "id": "65be7a9e",
   "metadata": {},
   "outputs": [],
   "source": [
    "role_arn='arn:aws:iam::{}:role/repl-sample-role'.format(account_no)\n",
    "print(role_arn)"
   ]
  },
  {
   "cell_type": "code",
   "execution_count": null,
   "id": "74df47bd",
   "metadata": {},
   "outputs": [],
   "source": [
    "# Note to future self: if Prefix is not included you will receive a MalformedXML error with\n",
    "# no explanation as to the root cause.\n",
    "s3west.put_bucket_replication(\n",
    "    Bucket='be97068west',\n",
    "    ReplicationConfiguration={\n",
    "        \"Role\":role_arn,\n",
    "        \"Rules\":[\n",
    "            {\n",
    "                \"ID\":\"shithead\",\n",
    "                \"Status\":\"Enabled\",\n",
    "                \"Destination\": {\n",
    "                    \"Bucket\" : \"arn:aws:s3:::be97068\"\n",
    "                },\n",
    "                \"Prefix\":\"\"\n",
    "            }\n",
    "        ]\n",
    "    }\n",
    ")"
   ]
  },
  {
   "cell_type": "code",
   "execution_count": null,
   "id": "1bb5cb00",
   "metadata": {},
   "outputs": [],
   "source": [
    "## TODO - ADD CLEAN UP"
   ]
  }
 ],
 "metadata": {
  "kernelspec": {
   "display_name": "Python 3",
   "language": "python",
   "name": "python3"
  },
  "language_info": {
   "codemirror_mode": {
    "name": "ipython",
    "version": 3
   },
   "file_extension": ".py",
   "mimetype": "text/x-python",
   "name": "python",
   "nbconvert_exporter": "python",
   "pygments_lexer": "ipython3",
   "version": "3.9.1"
  }
 },
 "nbformat": 4,
 "nbformat_minor": 5
}
